{
 "cells": [
  {
   "cell_type": "code",
   "execution_count": 1,
   "id": "1cd7e85c",
   "metadata": {},
   "outputs": [],
   "source": [
    "import pandas as pd\n",
    "import numpy as np\n",
    "import tensorflow as tf\n",
    "from tensorflow.keras import datasets,layers,models\n",
    "import matplotlib.pyplot as plt\n"
   ]
  },
  {
   "cell_type": "code",
   "execution_count": 2,
   "id": "3ed2bf86",
   "metadata": {},
   "outputs": [
    {
     "data": {
      "text/plain": [
       "(50000, 32, 32, 3)"
      ]
     },
     "execution_count": 2,
     "metadata": {},
     "output_type": "execute_result"
    }
   ],
   "source": [
    "(X_train,y_train),(X_test,y_test)=datasets.cifar10.load_data()\n",
    "X_train.shape"
   ]
  },
  {
   "cell_type": "code",
   "execution_count": 3,
   "id": "5130c58a",
   "metadata": {},
   "outputs": [
    {
     "data": {
      "text/plain": [
       "(10000, 32, 32, 3)"
      ]
     },
     "execution_count": 3,
     "metadata": {},
     "output_type": "execute_result"
    }
   ],
   "source": [
    "X_test.shape"
   ]
  },
  {
   "cell_type": "code",
   "execution_count": 14,
   "id": "4d97337c",
   "metadata": {},
   "outputs": [
    {
     "data": {
      "text/plain": [
       "array([[[235, 235, 235],\n",
       "        [231, 231, 231],\n",
       "        [232, 232, 232],\n",
       "        ...,\n",
       "        [233, 233, 233],\n",
       "        [233, 233, 233],\n",
       "        [232, 232, 232]],\n",
       "\n",
       "       [[238, 238, 238],\n",
       "        [235, 235, 235],\n",
       "        [235, 235, 235],\n",
       "        ...,\n",
       "        [236, 236, 236],\n",
       "        [236, 236, 236],\n",
       "        [235, 235, 235]],\n",
       "\n",
       "       [[237, 237, 237],\n",
       "        [234, 234, 234],\n",
       "        [234, 234, 234],\n",
       "        ...,\n",
       "        [235, 235, 235],\n",
       "        [235, 235, 235],\n",
       "        [234, 234, 234]],\n",
       "\n",
       "       ...,\n",
       "\n",
       "       [[ 87,  99,  89],\n",
       "        [ 43,  51,  37],\n",
       "        [ 19,  23,  11],\n",
       "        ...,\n",
       "        [169, 184, 179],\n",
       "        [182, 197, 193],\n",
       "        [188, 202, 201]],\n",
       "\n",
       "       [[ 82,  96,  82],\n",
       "        [ 46,  57,  36],\n",
       "        [ 36,  44,  22],\n",
       "        ...,\n",
       "        [174, 189, 183],\n",
       "        [185, 200, 196],\n",
       "        [187, 202, 200]],\n",
       "\n",
       "       [[ 85, 101,  83],\n",
       "        [ 62,  75,  48],\n",
       "        [ 58,  67,  38],\n",
       "        ...,\n",
       "        [168, 183, 178],\n",
       "        [180, 195, 191],\n",
       "        [186, 200, 199]]], dtype=uint8)"
      ]
     },
     "execution_count": 14,
     "metadata": {},
     "output_type": "execute_result"
    }
   ],
   "source": [
    "X_test[1]"
   ]
  },
  {
   "cell_type": "code",
   "execution_count": 4,
   "id": "ec54bb0a",
   "metadata": {},
   "outputs": [
    {
     "data": {
      "text/plain": [
       "(50000, 1)"
      ]
     },
     "execution_count": 4,
     "metadata": {},
     "output_type": "execute_result"
    }
   ],
   "source": [
    "y_train.shape"
   ]
  },
  {
   "cell_type": "code",
   "execution_count": 5,
   "id": "73e0e917",
   "metadata": {},
   "outputs": [
    {
     "data": {
      "text/plain": [
       "array([[6],\n",
       "       [9],\n",
       "       [9],\n",
       "       [4],\n",
       "       [1]], dtype=uint8)"
      ]
     },
     "execution_count": 5,
     "metadata": {},
     "output_type": "execute_result"
    }
   ],
   "source": [
    "y_train[:5]"
   ]
  },
  {
   "cell_type": "markdown",
   "id": "5c801073",
   "metadata": {},
   "source": [
    "Changing the array from 2D to 1D"
   ]
  },
  {
   "cell_type": "code",
   "execution_count": 6,
   "id": "423d71a6",
   "metadata": {},
   "outputs": [
    {
     "data": {
      "text/plain": [
       "array([6, 9, 9, ..., 9, 1, 1], dtype=uint8)"
      ]
     },
     "execution_count": 6,
     "metadata": {},
     "output_type": "execute_result"
    }
   ],
   "source": [
    "y_train=y_train.reshape(-1,)\n",
    "y_train"
   ]
  },
  {
   "cell_type": "code",
   "execution_count": 9,
   "id": "0ae828c5",
   "metadata": {},
   "outputs": [],
   "source": [
    "classes=['airplane','automobile','bird','cat','deer','dog','frog','horse','ship','truck']"
   ]
  },
  {
   "cell_type": "code",
   "execution_count": 12,
   "id": "7a6b7d8e",
   "metadata": {},
   "outputs": [
    {
     "data": {
      "text/plain": [
       "'ship'"
      ]
     },
     "execution_count": 12,
     "metadata": {},
     "output_type": "execute_result"
    }
   ],
   "source": [
    "classes[8]"
   ]
  },
  {
   "cell_type": "code",
   "execution_count": 7,
   "id": "fa2c2014",
   "metadata": {},
   "outputs": [
    {
     "data": {
      "text/plain": [
       "<matplotlib.image.AxesImage at 0x19ebb5d41c0>"
      ]
     },
     "execution_count": 7,
     "metadata": {},
     "output_type": "execute_result"
    },
    {
     "data": {
      "image/png": "[encoded data removed]",
      "text/plain": [
       "<Figure size 432x288 with 1 Axes>"
      ]
     },
     "metadata": {
      "needs_background": "light"
     },
     "output_type": "display_data"
    }
   ],
   "source": [
    "plt.imshow(X_train[12])"
   ]
  },
  {
   "cell_type": "code",
   "execution_count": 36,
   "id": "f59a19d3",
   "metadata": {},
   "outputs": [],
   "source": [
    "def plot_sample(x,y,index):\n",
    "    plt.figure(figsize=(5,4))\n",
    "    plt.imshow(x[index])\n",
    "    plt.xlabel(classes[y[index]])"
   ]
  },
  {
   "cell_type": "code",
   "execution_count": 37,
   "id": "f95ed65e",
   "metadata": {},
   "outputs": [
    {
     "data": {
      "image/png": "[encoded data removed]",
      "text/plain": [
       "<Figure size 360x288 with 1 Axes>"
      ]
     },
     "metadata": {
      "needs_background": "light"
     },
     "output_type": "display_data"
    }
   ],
   "source": [
    "plot_sample(X_train,y_train,1)"
   ]
  },
  {
   "cell_type": "code",
   "execution_count": 39,
   "id": "5195fadc",
   "metadata": {},
   "outputs": [],
   "source": [
    "X_train=X_train/255\n",
    "X_test=X_test/255"
   ]
  },
  {
   "cell_type": "code",
   "execution_count": 41,
   "id": "5fabbdbb",
   "metadata": {},
   "outputs": [
    {
     "data": {
      "text/plain": [
       "(50000, 32, 32, 3)"
      ]
     },
     "execution_count": 41,
     "metadata": {},
     "output_type": "execute_result"
    }
   ],
   "source": [
    "X_train.shape"
   ]
  },
  {
   "cell_type": "code",
   "execution_count": 47,
   "id": "4cc91a76",
   "metadata": {},
   "outputs": [
    {
     "name": "stdout",
     "output_type": "stream",
     "text": [
      "Epoch 1/5\n",
      "1563/1563 [==============================] - 64s 41ms/step - loss: 1.8114 - accuracy: 0.3555\n",
      "Epoch 2/5\n",
      "1563/1563 [==============================] - 65s 42ms/step - loss: 1.6238 - accuracy: 0.4271\n",
      "Epoch 3/5\n",
      "1563/1563 [==============================] - 71s 46ms/step - loss: 1.5430 - accuracy: 0.4563\n",
      "Epoch 4/5\n",
      "1563/1563 [==============================] - 67s 43ms/step - loss: 1.4812 - accuracy: 0.4791\n",
      "Epoch 5/5\n",
      "1563/1563 [==============================] - 67s 43ms/step - loss: 1.4304 - accuracy: 0.4968\n"
     ]
    },
    {
     "data": {
      "text/plain": [
       "<keras.callbacks.History at 0x19f13de64f0>"
      ]
     },
     "execution_count": 47,
     "metadata": {},
     "output_type": "execute_result"
    }
   ],
   "source": [
    "ann=models.Sequential([\n",
    "    layers.Flatten(input_shape=(32,32,3)),\n",
    "    layers.Dense(3000,activation='relu'),\n",
    "    layers.Dense(1000,activation='relu'),\n",
    "    layers.Dense(10,activation='sigmoid')\n",
    "])\n",
    "\n",
    "ann.compile(optimizer='SGD',\n",
    "             loss='sparse_categorical_crossentropy',\n",
    "             metrics=['accuracy'])\n",
    "ann.fit(X_train,y_train,epochs=5)"
   ]
  },
  {
   "cell_type": "code",
   "execution_count": 48,
   "id": "96a97f69",
   "metadata": {},
   "outputs": [
    {
     "name": "stdout",
     "output_type": "stream",
     "text": [
      "1563/1563 [==============================] - 25s 15ms/step - loss: 1.3970 - accuracy: 0.5084\n"
     ]
    },
    {
     "data": {
      "text/plain": [
       "[1.396954894065857, 0.5083600282669067]"
      ]
     },
     "execution_count": 48,
     "metadata": {},
     "output_type": "execute_result"
    }
   ],
   "source": [
    "ann.evaluate(X_train,y_train)"
   ]
  },
  {
   "cell_type": "code",
   "execution_count": 52,
   "id": "8c6ef7bd",
   "metadata": {},
   "outputs": [
    {
     "name": "stdout",
     "output_type": "stream",
     "text": [
      "313/313 [==============================] - 4s 13ms/step\n",
      "classification Report: \n",
      "               precision    recall  f1-score   support\n",
      "\n",
      "           0       0.64      0.44      0.52      1000\n",
      "           1       0.59      0.65      0.62      1000\n",
      "           2       0.48      0.19      0.27      1000\n",
      "           3       0.43      0.19      0.26      1000\n",
      "           4       0.50      0.29      0.37      1000\n",
      "           5       0.43      0.33      0.37      1000\n",
      "           6       0.34      0.82      0.48      1000\n",
      "           7       0.49      0.61      0.54      1000\n",
      "           8       0.53      0.72      0.61      1000\n",
      "           9       0.54      0.57      0.56      1000\n",
      "\n",
      "    accuracy                           0.48     10000\n",
      "   macro avg       0.50      0.48      0.46     10000\n",
      "weighted avg       0.50      0.48      0.46     10000\n",
      "\n"
     ]
    }
   ],
   "source": [
    "from sklearn.metrics import confusion_matrix,classification_report\n",
    "import numpy as np\n",
    "y_pred=ann.predict(X_test)\n",
    "y_pred_classes=[np.argmax(element) for element in y_pred]\n",
    "print(\"classification Report: \\n\",classification_report(y_test,y_pred_classes))"
   ]
  },
  {
   "cell_type": "code",
   "execution_count": 54,
   "id": "7c581d7c",
   "metadata": {},
   "outputs": [],
   "source": [
    "cnn=models.Sequential([\n",
    "    layers.Conv2D(filters=45,kernel_size=(3,3),activation='relu',input_shape=(32,32,3)),\n",
    "    layers.MaxPooling2D((2,2)),\n",
    "    \n",
    "    layers.Flatten(),\n",
    "    layers.Dense(64,activation='relu'),\n",
    "    layers.Dense(10,activation='softmax') #in softmax the total sum equals 1.\n",
    "])"
   ]
  },
  {
   "cell_type": "code",
   "execution_count": 62,
   "id": "5ef2ec0e",
   "metadata": {},
   "outputs": [
    {
     "name": "stdout",
     "output_type": "stream",
     "text": [
      "Epoch 1/20\n",
      "1563/1563 [==============================] - 22s 14ms/step - loss: 1.4923 - accuracy: 0.4680\n",
      "Epoch 2/20\n",
      "1563/1563 [==============================] - 23s 14ms/step - loss: 1.1959 - accuracy: 0.5816\n",
      "Epoch 3/20\n",
      "1563/1563 [==============================] - 24s 15ms/step - loss: 1.0724 - accuracy: 0.6259\n",
      "Epoch 4/20\n",
      "1563/1563 [==============================] - 23s 15ms/step - loss: 0.9953 - accuracy: 0.6548\n",
      "Epoch 5/20\n",
      "1563/1563 [==============================] - 25s 16ms/step - loss: 0.9352 - accuracy: 0.6750\n",
      "Epoch 6/20\n",
      "1563/1563 [==============================] - 23s 15ms/step - loss: 0.8839 - accuracy: 0.6938\n",
      "Epoch 7/20\n",
      "1563/1563 [==============================] - 25s 16ms/step - loss: 0.8435 - accuracy: 0.7066\n",
      "Epoch 8/20\n",
      "1563/1563 [==============================] - 25s 16ms/step - loss: 0.8004 - accuracy: 0.7222\n",
      "Epoch 9/20\n",
      "1563/1563 [==============================] - 25s 16ms/step - loss: 0.7654 - accuracy: 0.7333\n",
      "Epoch 10/20\n",
      "1563/1563 [==============================] - 26s 17ms/step - loss: 0.7288 - accuracy: 0.7471\n",
      "Epoch 11/20\n",
      "1563/1563 [==============================] - 25s 16ms/step - loss: 0.6949 - accuracy: 0.7571\n",
      "Epoch 12/20\n",
      "1563/1563 [==============================] - 26s 17ms/step - loss: 0.6602 - accuracy: 0.7685\n",
      "Epoch 13/20\n",
      "1563/1563 [==============================] - 26s 17ms/step - loss: 0.6260 - accuracy: 0.7807\n",
      "Epoch 14/20\n",
      "1563/1563 [==============================] - 24s 16ms/step - loss: 0.5955 - accuracy: 0.7922\n",
      "Epoch 15/20\n",
      "1563/1563 [==============================] - 23s 15ms/step - loss: 0.5625 - accuracy: 0.8023\n",
      "Epoch 16/20\n",
      "1563/1563 [==============================] - 24s 15ms/step - loss: 0.5335 - accuracy: 0.8130\n",
      "Epoch 17/20\n",
      "1563/1563 [==============================] - 24s 15ms/step - loss: 0.5052 - accuracy: 0.8228\n",
      "Epoch 18/20\n",
      "1563/1563 [==============================] - 24s 15ms/step - loss: 0.4771 - accuracy: 0.8337\n",
      "Epoch 19/20\n",
      "1563/1563 [==============================] - 29s 19ms/step - loss: 0.4492 - accuracy: 0.8447\n",
      "Epoch 20/20\n",
      "1563/1563 [==============================] - 24s 15ms/step - loss: 0.4295 - accuracy: 0.8497\n"
     ]
    },
    {
     "data": {
      "text/plain": [
       "<keras.callbacks.History at 0x19ebbc8bdc0>"
      ]
     },
     "execution_count": 62,
     "metadata": {},
     "output_type": "execute_result"
    }
   ],
   "source": [
    "cnn.compile(optimizer='adam',\n",
    "             loss='sparse_categorical_crossentropy',\n",
    "             metrics=['accuracy'])\n",
    "cnn.fit(X_train,y_train,epochs=20)"
   ]
  },
  {
   "cell_type": "code",
   "execution_count": 63,
   "id": "8f0b31ac",
   "metadata": {},
   "outputs": [
    {
     "name": "stdout",
     "output_type": "stream",
     "text": [
      "313/313 [==============================] - 2s 5ms/step - loss: 1.4292 - accuracy: 0.6259\n"
     ]
    },
    {
     "data": {
      "text/plain": [
       "[1.4291844367980957, 0.6258999705314636]"
      ]
     },
     "execution_count": 63,
     "metadata": {},
     "output_type": "execute_result"
    }
   ],
   "source": [
    "cnn.evaluate(X_test,y_test)"
   ]
  },
  {
   "cell_type": "code",
   "execution_count": 64,
   "id": "51520562",
   "metadata": {},
   "outputs": [
    {
     "data": {
      "text/plain": [
       "array([[3],\n",
       "       [8],\n",
       "       [8],\n",
       "       [0],\n",
       "       [6]], dtype=uint8)"
      ]
     },
     "execution_count": 64,
     "metadata": {},
     "output_type": "execute_result"
    }
   ],
   "source": [
    "y_test[:5]"
   ]
  },
  {
   "cell_type": "code",
   "execution_count": 65,
   "id": "cb6ca2b2",
   "metadata": {},
   "outputs": [],
   "source": [
    "y_test=y_test.reshape(-1,)"
   ]
  },
  {
   "cell_type": "code",
   "execution_count": 66,
   "id": "61f3529e",
   "metadata": {},
   "outputs": [
    {
     "data": {
      "image/png": "[encoded data removed]",
      "text/plain": [
       "<Figure size 360x288 with 1 Axes>"
      ]
     },
     "metadata": {
      "needs_background": "light"
     },
     "output_type": "display_data"
    }
   ],
   "source": [
    "plot_sample(X_test,y_test,1)"
   ]
  },
  {
   "cell_type": "code",
   "execution_count": 68,
   "id": "5e225155",
   "metadata": {},
   "outputs": [
    {
     "name": "stdout",
     "output_type": "stream",
     "text": [
      "313/313 [==============================] - 2s 5ms/step\n"
     ]
    },
    {
     "data": {
      "text/plain": [
       "array([[3.1968125e-04, 7.4228933e-07, 9.2088094e-04, 8.2704753e-01,\n",
       "        8.5984240e-05, 9.8274054e-04, 1.9957151e-02, 1.1657645e-06,\n",
       "        1.5067916e-01, 5.0213480e-06],\n",
       "       [6.9618510e-04, 3.2613505e-02, 6.9680340e-08, 2.1712566e-08,\n",
       "        2.7192772e-07, 1.1441953e-09, 5.0655705e-11, 1.8807771e-11,\n",
       "        9.6661133e-01, 7.8584337e-05],\n",
       "       [7.3165101e-01, 2.1873862e-03, 1.2571918e-04, 7.7311284e-05,\n",
       "        6.8317015e-05, 1.7345226e-06, 3.8873861e-08, 4.1097279e-05,\n",
       "        2.5670981e-01, 9.1374861e-03],\n",
       "       [1.4607497e-01, 1.5044006e-04, 3.2055993e-03, 8.2978899e-05,\n",
       "        1.6720073e-03, 1.6319153e-06, 3.4722293e-04, 3.3988492e-06,\n",
       "        8.4840393e-01, 5.7823021e-05],\n",
       "       [7.6864346e-09, 7.2276586e-04, 8.4721705e-06, 5.1383399e-03,\n",
       "        3.8371700e-01, 8.6537699e-07, 6.1040837e-01, 2.0044965e-08,\n",
       "        2.5056360e-07, 3.8957769e-06]], dtype=float32)"
      ]
     },
     "execution_count": 68,
     "metadata": {},
     "output_type": "execute_result"
    }
   ],
   "source": [
    "y_pred=cnn.predict(X_test)\n",
    "y_pred[:5]"
   ]
  },
  {
   "cell_type": "code",
   "execution_count": 70,
   "id": "c3a70808",
   "metadata": {},
   "outputs": [
    {
     "data": {
      "text/plain": [
       "[3, 8, 0, 8, 6]"
      ]
     },
     "execution_count": 70,
     "metadata": {},
     "output_type": "execute_result"
    }
   ],
   "source": [
    "y_classes=[np.argmax(element) for element in y_pred]\n",
    "y_classes[:5]\n"
   ]
  },
  {
   "cell_type": "code",
   "execution_count": 72,
   "id": "edff4d9c",
   "metadata": {},
   "outputs": [
    {
     "data": {
      "text/plain": [
       "array([3, 8, 8, 0, 6], dtype=uint8)"
      ]
     },
     "execution_count": 72,
     "metadata": {},
     "output_type": "execute_result"
    }
   ],
   "source": [
    "y_test[:5]"
   ]
  },
  {
   "cell_type": "code",
   "execution_count": 73,
   "id": "f964e641",
   "metadata": {},
   "outputs": [
    {
     "name": "stdout",
     "output_type": "stream",
     "text": [
      "classification report: \n",
      "               precision    recall  f1-score   support\n",
      "\n",
      "           0       0.60      0.68      0.64      1000\n",
      "           1       0.77      0.71      0.74      1000\n",
      "           2       0.45      0.55      0.49      1000\n",
      "           3       0.48      0.43      0.45      1000\n",
      "           4       0.55      0.62      0.58      1000\n",
      "           5       0.59      0.46      0.51      1000\n",
      "           6       0.76      0.66      0.70      1000\n",
      "           7       0.70      0.68      0.69      1000\n",
      "           8       0.71      0.76      0.73      1000\n",
      "           9       0.72      0.71      0.72      1000\n",
      "\n",
      "    accuracy                           0.63     10000\n",
      "   macro avg       0.63      0.63      0.63     10000\n",
      "weighted avg       0.63      0.63      0.63     10000\n",
      "\n"
     ]
    }
   ],
   "source": [
    "print(\"classification report: \\n\",classification_report(y_test,y_classes))"
   ]
  },
  {
   "cell_type": "code",
   "execution_count": null,
   "id": "fc72acdf",
   "metadata": {},
   "outputs": [],
   "source": []
  }
 ],
 "metadata": {
  "kernelspec": {
   "display_name": "Python 3",
   "language": "python",
   "name": "python3"
  },
  "language_info": {
   "codemirror_mode": {
    "name": "ipython",
    "version": 3
   },
   "file_extension": ".py",
   "mimetype": "text/x-python",
   "name": "python",
   "nbconvert_exporter": "python",
   "pygments_lexer": "ipython3",
   "version": "3.8.8"
  }
 },
 "nbformat": 4,
 "nbformat_minor": 5
}
